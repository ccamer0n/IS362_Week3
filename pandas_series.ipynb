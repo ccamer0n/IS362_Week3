{
 "cells": [
  {
   "cell_type": "markdown",
   "id": "0891139c",
   "metadata": {},
   "source": [
    "## Week 3 Assignment\n",
    "\n",
    "This program takes a list of cumulative values represent miles ridden, asigns them to a pandas Series object, and calculates the difference between successive values in the list to get the number of miles ridden each day.\n",
    "\n",
    "First, we import pandas and NumPy:"
   ]
  },
  {
   "cell_type": "code",
   "execution_count": 8,
   "id": "d6bc4c33",
   "metadata": {},
   "outputs": [],
   "source": [
    "import pandas as pd\n",
    "import numpy as np"
   ]
  },
  {
   "cell_type": "markdown",
   "id": "8d90b26f",
   "metadata": {},
   "source": [
    "Now, we will create a list to hold the hypothetical values for cumulative miles ridden. We also initialize an empty list for daily_mileage, which will be used in the next step, and create a pandas series from the cumulative miles list:"
   ]
  },
  {
   "cell_type": "code",
   "execution_count": 40,
   "id": "a36e0a75",
   "metadata": {},
   "outputs": [],
   "source": [
    "cumulative_mileage = [55, 120, 180, 235, 305, 355, 415, 480, 530, 595, 670, 710, \n",
    "                      765, 820, 885, 945, 1000, 1065, 1120, 1180, 1235, 1265, \n",
    "                      1340, 1400, 1460, 1515, 1572]\n",
    "\n",
    "daily_mileage = []\n",
    "\n",
    "s1 = pd.Series(cumulative_mileage)"
   ]
  },
  {
   "cell_type": "markdown",
   "id": "9e02d3db",
   "metadata": {},
   "source": [
    "Finally, a for loop iterates over the s1 series, where the difference between values is calculated as (n - (n-1)). From this calculation we append the results to the daily_mileage list. Series s2 displays the final output:"
   ]
  },
  {
   "cell_type": "code",
   "execution_count": 42,
   "id": "58c8cdea",
   "metadata": {},
   "outputs": [
    {
     "data": {
      "text/plain": [
       "0     55\n",
       "1     65\n",
       "2     60\n",
       "3     55\n",
       "4     70\n",
       "5     50\n",
       "6     60\n",
       "7     65\n",
       "8     50\n",
       "9     65\n",
       "10    75\n",
       "11    40\n",
       "12    55\n",
       "13    55\n",
       "14    65\n",
       "15    60\n",
       "16    55\n",
       "17    65\n",
       "18    55\n",
       "19    60\n",
       "20    55\n",
       "21    30\n",
       "22    75\n",
       "23    60\n",
       "24    60\n",
       "25    55\n",
       "26    57\n",
       "27    55\n",
       "28    65\n",
       "29    60\n",
       "30    55\n",
       "31    70\n",
       "32    50\n",
       "33    60\n",
       "34    65\n",
       "35    50\n",
       "36    65\n",
       "37    75\n",
       "38    40\n",
       "39    55\n",
       "40    55\n",
       "41    65\n",
       "42    60\n",
       "43    55\n",
       "44    65\n",
       "45    55\n",
       "46    60\n",
       "47    55\n",
       "48    30\n",
       "49    75\n",
       "50    60\n",
       "51    60\n",
       "52    55\n",
       "53    57\n",
       "dtype: int64"
      ]
     },
     "execution_count": 42,
     "metadata": {},
     "output_type": "execute_result"
    }
   ],
   "source": [
    "for n in range(len(s1)):\n",
    "    if n == 0:\n",
    "        daily_mileage.append(s1[n])\n",
    "    else:\n",
    "        daily_mileage.append(s1[n] - s1[n-1])\n",
    "\n",
    "s2 = pd.Series(daily_mileage)\n",
    "s2"
   ]
  },
  {
   "cell_type": "code",
   "execution_count": null,
   "id": "e72eedf0",
   "metadata": {},
   "outputs": [],
   "source": []
  }
 ],
 "metadata": {
  "kernelspec": {
   "display_name": "Python 3 (ipykernel)",
   "language": "python",
   "name": "python3"
  },
  "language_info": {
   "codemirror_mode": {
    "name": "ipython",
    "version": 3
   },
   "file_extension": ".py",
   "mimetype": "text/x-python",
   "name": "python",
   "nbconvert_exporter": "python",
   "pygments_lexer": "ipython3",
   "version": "3.9.13"
  }
 },
 "nbformat": 4,
 "nbformat_minor": 5
}
